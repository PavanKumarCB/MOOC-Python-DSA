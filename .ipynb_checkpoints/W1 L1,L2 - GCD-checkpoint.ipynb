{
 "cells": [
  {
   "cell_type": "markdown",
   "id": "86cbdea7",
   "metadata": {},
   "source": [
    "# Improving the GCD Algorithm"
   ]
  },
  {
   "cell_type": "markdown",
   "id": "8dc8839d",
   "metadata": {},
   "source": [
    "## Method 1\n",
    "\n",
    "- Use `fm` and `fn` for list of factors of `m` and `n` respectively. (`fm` and `fn` are lists)\n",
    "- For eash `i` from 1 to `m`, add `i` to `fm`.\n",
    "- For each `j` in 1 to `n`, add `j` to `fn`.\n",
    "- Use another list `cf` for common factors. Add the factors appearing in both `fm` and `fn` to `cf`\n",
    "- Arrange the values in `cf` in ascending order.\n",
    "- Return the largest (rightmost) value of `cf` i.e., the GCD"
   ]
  },
  {
   "cell_type": "markdown",
   "id": "e8250251",
   "metadata": {},
   "source": [
    "## Method 2\n",
    "- The GCD of two numbers will within 1 and the greatest number out of the 2.\n",
    "- Hence, scan from 1 to max(m,n).\n",
    "- Check if each `i` from 1 to max(m,n) divides m and n, and add that i to the list of `cf`.\n",
    "\n",
    "Code is in next cell"
   ]
  },
  {
   "cell_type": "code",
   "execution_count": 5,
   "id": "d409ada2",
   "metadata": {},
   "outputs": [
    {
     "name": "stdout",
     "output_type": "stream",
     "text": [
      "First Num: 1\n",
      "Second Num: 2\n",
      "GCD = 1\n"
     ]
    }
   ],
   "source": [
    "m = int(input(\"First Num: \"))\n",
    "n = int(input(\"Second Num: \"))\n",
    "cf = []\n",
    "for i in range(1, max(m,n)):\n",
    "    if(m%i==0 and n%i==0):\n",
    "        cf.append(i)\n",
    "        i=i+1\n",
    "    else:\n",
    "        i=i+1\n",
    "gcd = cf[-1]\n",
    "print(f\"GCD = {gcd}\")"
   ]
  },
  {
   "cell_type": "markdown",
   "id": "d9fbb54a",
   "metadata": {},
   "source": [
    "## Method 3\n",
    "- The GCD of two numbers does not exceed the smallest number.\n",
    "- Let m>n, if `i` exceeds `n`, `i` maybe a factor of `m` but it certainly cannot be a factor of `n`.\n",
    "- Hence, we can reduce the time consumed by changing the algorithm to check for each `i` from 1 to min(m,n), and add `i` to the list of `cf`."
   ]
  },
  {
   "cell_type": "code",
   "execution_count": null,
   "id": "563f0b27",
   "metadata": {},
   "outputs": [],
   "source": [
    "m = int(input(\"First Num: \"))\n",
    "n = int(input(\"Second Num: \"))\n",
    "cf = []\n",
    "for i in range(1, min(m,n)+1): # note the one added here so that the program considers the last number as well.\n",
    "    if(m%i==0 and n%i==0):\n",
    "        cf.append(i)\n",
    "\n",
    "gcd = cf[-1]\n",
    "print(f\"GCD = {gcd}\")"
   ]
  },
  {
   "cell_type": "markdown",
   "id": "af13d865",
   "metadata": {},
   "source": [
    "## Method 4\n",
    "- Since the GCD of the two numbers is the largest number in the list, we need not use a list at all.\n",
    "- We may use a variable to store the value of `i` that divides `m` and `n` and keep updating it as the value of valid `i` increases.\n",
    "- Then return that variable at the end."
   ]
  },
  {
   "cell_type": "code",
   "execution_count": null,
   "id": "80000d84",
   "metadata": {},
   "outputs": [],
   "source": [
    "m = int(input(\"First Num: \"))\n",
    "n = int(input(\"Second Num: \"))\n",
    "gcd = 0\n",
    "for i in range(1, min(m,n)+1): # note the one added here so that the program considers the last number as well.\n",
    "    if(m%i==0 and n%i==0):\n",
    "        gcd = i\n",
    "\n",
    "print(f\"GCD = {gcd}\")"
   ]
  },
  {
   "cell_type": "markdown",
   "id": "567534a2",
   "metadata": {},
   "source": [
    "## Method 5\n",
    "- Instead of scanning from 1 to min(m,n), we can scan in reverse order i.e., from min(m,n) to 1 to obtain the GCD."
   ]
  },
  {
   "cell_type": "code",
   "execution_count": 3,
   "id": "621d4b39",
   "metadata": {},
   "outputs": [
    {
     "name": "stdout",
     "output_type": "stream",
     "text": [
      "First Num: 13\n",
      "Second Num: 26\n",
      "13\n"
     ]
    }
   ],
   "source": [
    "m = int(input(\"First Num: \"))\n",
    "n = int(input(\"Second Num: \"))\n",
    "gcd = 0\n",
    "i = min(m,n)\n",
    "while(i>0):\n",
    "    if(m%i==0 and n%i==0):\n",
    "        gcd = i\n",
    "        break\n",
    "    else:\n",
    "        i = i-1;\n",
    "\n",
    "print(gcd)"
   ]
  },
  {
   "cell_type": "code",
   "execution_count": null,
   "id": "c4015982",
   "metadata": {},
   "outputs": [],
   "source": []
  }
 ],
 "metadata": {
  "kernelspec": {
   "display_name": "Python 3 (ipykernel)",
   "language": "python",
   "name": "python3"
  },
  "language_info": {
   "codemirror_mode": {
    "name": "ipython",
    "version": 3
   },
   "file_extension": ".py",
   "mimetype": "text/x-python",
   "name": "python",
   "nbconvert_exporter": "python",
   "pygments_lexer": "ipython3",
   "version": "3.10.10"
  }
 },
 "nbformat": 4,
 "nbformat_minor": 5
}
