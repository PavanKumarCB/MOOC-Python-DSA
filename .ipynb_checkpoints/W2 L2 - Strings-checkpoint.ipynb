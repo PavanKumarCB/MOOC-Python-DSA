{
 "cells": [
  {
   "cell_type": "markdown",
   "id": "5ae4e86a",
   "metadata": {},
   "source": [
    "# Strings - type `str`\n",
    "Note that there is no separate `char` datatype in Python. A single character is a string of length 1.\n",
    "\n",
    "To declare a string, enclose the text in single, double or even triple quotes."
   ]
  },
  {
   "cell_type": "code",
   "execution_count": 41,
   "id": "f608b182",
   "metadata": {},
   "outputs": [
    {
     "name": "stdout",
     "output_type": "stream",
     "text": [
      "<class 'str'>\n",
      "Bengaluru\n",
      "Delhi\n",
      "\"Dracarys\" she said\n",
      "my quote is as follows \"Fear cuts deeper than the sword\"\n",
      "He exclaimed, \"What a beautiful sight!\"\n"
     ]
    }
   ],
   "source": [
    "city = 'Bengaluru'\n",
    "city2 = \"Delhi\"\n",
    "print(type(city))\n",
    "print(city)\n",
    "print(city2)\n",
    "\n",
    "# use case of triple quotes\n",
    "dialogue = '''\"Dracarys\" she said'''\n",
    "print(dialogue)\n",
    "\n",
    "# another usecase\n",
    "quote = '''my quote is as follows: \\\n",
    "\"Fear cuts deeper than the sword\"''' # '\\' symbol tells python to treat the next character as it is\n",
    "print(quote)\n",
    "\n",
    "# another example of '\\' symbol\n",
    "print(\"He exclaimed, \\\"What a beautiful sight!\\\"\")"
   ]
  },
  {
   "attachments": {
    "Xnip2023-05-18_00-47-38.jpg": {
     "image/jpeg": "[encoded data removed]"
    }
   },
   "cell_type": "markdown",
   "id": "e132c1c3",
   "metadata": {},
   "source": [
    "A string is a sequence of characters. We can extract individual characters by specifying the index of that character. \n",
    "Moving from left to right(forwards), indexing starts from 0, whereas moving right to left(backwards), indexing starts from -1.\n",
    "![Xnip2023-05-18_00-47-38.jpg](attachment:Xnip2023-05-18_00-47-38.jpg)"
   ]
  },
  {
   "cell_type": "code",
   "execution_count": 30,
   "id": "0964e251",
   "metadata": {
    "scrolled": true
   },
   "outputs": [
    {
     "name": "stdout",
     "output_type": "stream",
     "text": [
      "s[1] = e\n",
      "s[-1] = o\n",
      "s[-3] = l\n"
     ]
    }
   ],
   "source": [
    "s = 'hello'\n",
    "print(f\"s[1] = {s[1]}\")\n",
    "print(f\"s[-1] = {s[-1]}\")\n",
    "print(f\"s[-3] = {s[-3]}\")"
   ]
  },
  {
   "cell_type": "markdown",
   "id": "3b495a6c",
   "metadata": {},
   "source": [
    "## Operations on Strings\n",
    "- Combine two strings using the `+` operator (concatenation).\n",
    "- `len(s)` returns the length of the string s."
   ]
  },
  {
   "cell_type": "code",
   "execution_count": 38,
   "id": "e882c0f5",
   "metadata": {},
   "outputs": [
    {
     "name": "stdout",
     "output_type": "stream",
     "text": [
      "goodmorning\n",
      "good morning\n",
      "length of s3 is 12\n",
      "hello there\n"
     ]
    }
   ],
   "source": [
    "s1 = \"good\"\n",
    "s2 = \"morning\"\n",
    "s3 = s1 + s2\n",
    "print(s3)\n",
    "\n",
    "# slight change to the above lines\n",
    "s2 = \" morning\"\n",
    "s3 = s1 + s2\n",
    "print(s3)\n",
    "print(f\"length of s3 is {len(s3)}\") # 'len(s)' counts all characters, including whitespace and newline\n",
    "\n",
    "# printing using the print function\n",
    "t1 = \"hello\"\n",
    "t2 = \"there\"\n",
    "print(t1 + \" \" + t2) # without the middle whitespace within the quotes, there would be no spacing b/w the two words"
   ]
  },
  {
   "cell_type": "markdown",
   "id": "272a4a34",
   "metadata": {},
   "source": [
    "## Extracting substrings\n",
    "- A 'slice' is a segment of a string\n",
    "- `s[i:j]` starts at `s[i]` and ends at `s[j-1]`\n",
    "- `s[:j]` starts at `s[0]` and ends at `s[j-1]`, same as `s[0:j]`\n",
    "- `s[i:]` starts ar `s[i]` and ends at `s[len(s)-1]`, same as `s[i:len(s)]`"
   ]
  },
  {
   "cell_type": "code",
   "execution_count": 40,
   "id": "90fb109f",
   "metadata": {},
   "outputs": [
    {
     "name": "stdout",
     "output_type": "stream",
     "text": [
      "igat\n",
      "ariga\n",
      "gato\n"
     ]
    }
   ],
   "source": [
    "string = \"arigato\"\n",
    "print(string[2:6])\n",
    "print(string[:5])\n",
    "print(string[3:])"
   ]
  },
  {
   "cell_type": "markdown",
   "id": "6548f73c",
   "metadata": {},
   "source": [
    "## Modifying strings"
   ]
  },
  {
   "cell_type": "code",
   "execution_count": 47,
   "id": "5694ab86",
   "metadata": {},
   "outputs": [
    {
     "ename": "TypeError",
     "evalue": "'str' object does not support item assignment",
     "output_type": "error",
     "traceback": [
      "\u001b[0;31m---------------------------------------------------------------------------\u001b[0m",
      "\u001b[0;31mTypeError\u001b[0m                                 Traceback (most recent call last)",
      "Cell \u001b[0;32mIn[47], line 2\u001b[0m\n\u001b[1;32m      1\u001b[0m newStr \u001b[38;5;241m=\u001b[39m \u001b[38;5;124m\"\u001b[39m\u001b[38;5;124msayonara\u001b[39m\u001b[38;5;124m\"\u001b[39m\n\u001b[0;32m----> 2\u001b[0m newStr[\u001b[38;5;241m8\u001b[39m] \u001b[38;5;241m=\u001b[39m \u001b[38;5;124m\"\u001b[39m\u001b[38;5;124mq\u001b[39m\u001b[38;5;124m\"\u001b[39m\n",
      "\u001b[0;31mTypeError\u001b[0m: 'str' object does not support item assignment"
     ]
    }
   ],
   "source": [
    "newStr = \"sayonara\"\n",
    "newStr[8] = \"q\" # will give error"
   ]
  },
  {
   "cell_type": "markdown",
   "id": "3a26a9f8",
   "metadata": {},
   "source": [
    "Due to the above piece of code, we say strings are 'immutable'.\n",
    "To modify strings, use splicing and concatenation instead."
   ]
  },
  {
   "cell_type": "code",
   "execution_count": 46,
   "id": "9ccd81fe",
   "metadata": {},
   "outputs": [
    {
     "name": "stdout",
     "output_type": "stream",
     "text": [
      "sayonarQ\n"
     ]
    }
   ],
   "source": [
    "newStr2 = newStr[0:7] + 'Q'\n",
    "print(newStr2)"
   ]
  }
 ],
 "metadata": {
  "kernelspec": {
   "display_name": "Python 3 (ipykernel)",
   "language": "python",
   "name": "python3"
  },
  "language_info": {
   "codemirror_mode": {
    "name": "ipython",
    "version": 3
   },
   "file_extension": ".py",
   "mimetype": "text/x-python",
   "name": "python",
   "nbconvert_exporter": "python",
   "pygments_lexer": "ipython3",
   "version": "3.10.10"
  }
 },
 "nbformat": 4,
 "nbformat_minor": 5
}
