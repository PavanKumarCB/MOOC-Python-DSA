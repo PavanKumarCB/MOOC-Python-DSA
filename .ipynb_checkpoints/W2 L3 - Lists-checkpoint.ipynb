{
 "cells": [
  {
   "cell_type": "markdown",
   "id": "4b973420",
   "metadata": {},
   "source": [
    "Lists are a sequence of values\n",
    "\n",
    "    - factors = [2,3,5,8]\n",
    "    - names = [\"Ravi\", \"Anand\", \"Ramesh\"]\n",
    "    \n",
    "Python allows for mixed lists, i.e., lists containing more than one kind of datatype, like\n",
    "\n",
    "    - mixed_list = [3, True, \"Hello\"]\n",
    "    \n",
    "Extraction of values in a list is same as that done in a string.\n",
    "\n",
    "    - factors[3] is 8\n",
    "    - mixed_list[0:2] is [3, True]"
   ]
  },
  {
   "cell_type": "markdown",
   "id": "c6c244dd",
   "metadata": {},
   "source": [
    "## Lists and Strings\n",
    "- For a string both, a single position and a slice returns a string. For eg \\\n",
    "    <span font-family: monospace>h = \"hello\"\n",
    "    h[0] == h[0:1] == \"h\"</span>\n",
    "    \n",
    "- For a list, a single position returns a value, a slice returns a list. For eg\n",
    "    \n"
   ]
  }
 ],
 "metadata": {
  "kernelspec": {
   "display_name": "Python 3 (ipykernel)",
   "language": "python",
   "name": "python3"
  },
  "language_info": {
   "codemirror_mode": {
    "name": "ipython",
    "version": 3
   },
   "file_extension": ".py",
   "mimetype": "text/x-python",
   "name": "python",
   "nbconvert_exporter": "python",
   "pygments_lexer": "ipython3",
   "version": "3.10.10"
  }
 },
 "nbformat": 4,
 "nbformat_minor": 5
}
