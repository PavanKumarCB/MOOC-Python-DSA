{
 "cells": [
  {
   "cell_type": "markdown",
   "id": "8039e729",
   "metadata": {},
   "source": [
    "### Program to find if a number is a prime number or not"
   ]
  },
  {
   "cell_type": "code",
   "execution_count": 2,
   "id": "5f879cc6",
   "metadata": {},
   "outputs": [
    {
     "data": {
      "text/plain": [
       "False"
      ]
     },
     "execution_count": 2,
     "metadata": {},
     "output_type": "execute_result"
    }
   ],
   "source": [
    "def isPrime(n):\n",
    "    for i in range(2,n): # We start off with 2 coz 1 is neither prime nor composite\n",
    "        if(n%i==0):\n",
    "            return False\n",
    "    return True\n",
    "\n",
    "isPrime(21)"
   ]
  },
  {
   "cell_type": "markdown",
   "id": "854b842b",
   "metadata": {},
   "source": [
    "### Program to find prime numbers from 1 to N"
   ]
  },
  {
   "cell_type": "code",
   "execution_count": 7,
   "id": "2e31f461",
   "metadata": {},
   "outputs": [
    {
     "data": {
      "text/plain": [
       "[2, 3, 5, 7]"
      ]
     },
     "execution_count": 7,
     "metadata": {},
     "output_type": "execute_result"
    }
   ],
   "source": [
    "def primeNos(N):\n",
    "    primes = []\n",
    "    for i in range(2,N+1): # We start off with 2 coz 1 is neither prime nor composite\n",
    "            if(isPrime(i)):\n",
    "                primes.append(i)\n",
    "    return primes\n",
    "\n",
    "primeNos(10)"
   ]
  },
  {
   "cell_type": "code",
   "execution_count": null,
   "id": "c938caea",
   "metadata": {},
   "outputs": [],
   "source": []
  }
 ],
 "metadata": {
  "kernelspec": {
   "display_name": "Python 3 (ipykernel)",
   "language": "python",
   "name": "python3"
  },
  "language_info": {
   "codemirror_mode": {
    "name": "ipython",
    "version": 3
   },
   "file_extension": ".py",
   "mimetype": "text/x-python",
   "name": "python",
   "nbconvert_exporter": "python",
   "pygments_lexer": "ipython3",
   "version": "3.10.10"
  }
 },
 "nbformat": 4,
 "nbformat_minor": 5
}
