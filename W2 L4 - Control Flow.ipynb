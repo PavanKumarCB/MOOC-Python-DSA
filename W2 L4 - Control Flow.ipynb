{
 "cells": [
  {
   "attachments": {},
   "cell_type": "markdown",
   "metadata": {},
   "source": [
    "## Conditional Execution\n",
    "These are `if-else` blocks.\n",
    "This has 3 keywords:\n",
    "\n",
    "    if\n",
    "    elif (equivalent to `else if` in C)\n",
    "    else\n",
    "\n",
    "A simple example for conditional execution can be\n",
    "    \n",
    "    if(raining):\n",
    "        take umbrella\n",
    "    else:\n",
    "        don't take umbrella\n",
    "\n",
    "The else statement is optional."
   ]
  },
  {
   "attachments": {},
   "cell_type": "markdown",
   "metadata": {},
   "source": [
    "## Loops\n",
    "Repeat something for fixed number of times."
   ]
  },
  {
   "cell_type": "code",
   "execution_count": 2,
   "metadata": {},
   "outputs": [
    {
     "name": "stdout",
     "output_type": "stream",
     "text": [
      "24\n",
      "4\n"
     ]
    }
   ],
   "source": [
    "y = 1\n",
    "z = 0\n",
    "for i in [1,2,3,4]:\n",
    "    y = y * i\n",
    "    z = z + 1\n",
    "    \n",
    "print(y)\n",
    "print(z)"
   ]
  },
  {
   "attachments": {},
   "cell_type": "markdown",
   "metadata": {},
   "source": [
    "### Example\n",
    "Find the factors of a given number"
   ]
  },
  {
   "cell_type": "code",
   "execution_count": 6,
   "metadata": {},
   "outputs": [
    {
     "data": {
      "text/plain": [
       "[1, 2, 4, 8, 16]"
      ]
     },
     "execution_count": 6,
     "metadata": {},
     "output_type": "execute_result"
    }
   ],
   "source": [
    "def factors(n):\n",
    "    F = []\n",
    "    for i in range(1,n+1):\n",
    "        if(n%i==0):\n",
    "            F.append(i)\n",
    "    return F\n",
    "factors(16)"
   ]
  },
  {
   "attachments": {},
   "cell_type": "markdown",
   "metadata": {},
   "source": [
    "### Loop based on a condition\n",
    "In some cases, we may not know the exact number of times the code has to run. But we may know the condition for which the repetition has to stop. In those cases we use `while` loop."
   ]
  },
  {
   "cell_type": "code",
   "execution_count": 7,
   "metadata": {},
   "outputs": [
    {
     "name": "stdout",
     "output_type": "stream",
     "text": [
      "0\n",
      "1\n",
      "2\n",
      "3\n",
      "4\n",
      "5\n"
     ]
    }
   ],
   "source": [
    "i = 0\n",
    "while i < 6:\n",
    "  print(i)\n",
    "  i += 1"
   ]
  }
 ],
 "metadata": {
  "kernelspec": {
   "display_name": "Python 3 (ipykernel)",
   "language": "python",
   "name": "python3"
  },
  "language_info": {
   "codemirror_mode": {
    "name": "ipython",
    "version": 3
   },
   "file_extension": ".py",
   "mimetype": "text/x-python",
   "name": "python",
   "nbconvert_exporter": "python",
   "pygments_lexer": "ipython3",
   "version": "3.10.1"
  }
 },
 "nbformat": 4,
 "nbformat_minor": 2
}
