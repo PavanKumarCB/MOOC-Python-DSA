{
 "cells": [
  {
   "cell_type": "markdown",
   "id": "4d7b9fa9",
   "metadata": {},
   "source": [
    "## Function Definition\n",
    "    def f(a,b,c):\n",
    "        statement_1\n",
    "        statement_2\n",
    "        ...\n",
    "        return(v)\n",
    "        \n",
    "The `return` statement exits from the function and returns a value"
   ]
  },
  {
   "cell_type": "markdown",
   "id": "0c8213e8",
   "metadata": {},
   "source": [
    "## Passing values to functions\n",
    "The same rules apply to mutable and imutable values.\n",
    "\n",
    "- Immutable values will not be affected at calling point.\n",
    "- Mutable values will be affected.\n",
    "\n",
    "Lists can be corelated to arrays in C. When we pass a variable into a function, a copy of it is passed into the function. Whereas when we pass a list to a function, a pointer to the list is passed into the function, therefore any changes done to the list within the function changes the original list as well. "
   ]
  },
  {
   "cell_type": "code",
   "execution_count": null,
   "id": "34f8ac11",
   "metadata": {},
   "outputs": [],
   "source": [
    "def update(l,i,v):\n",
    "    if(i>=0 and i<len(l)):\n",
    "        l[i] = v\n",
    "        return True\n",
    "    else:\n",
    "        v = v + 1\n",
    "        return False\n",
    "    \n",
    "l = [1,2,3,4,5]\n",
    "v = 0\n",
    "print(l)\n",
    "print(v)\n",
    "print(update(l,2,v))\n",
    "print(l) # 'l' changes coz the list is passed as it is into the function.\n",
    "\n",
    "print(\"*\"*50)\n",
    "\n",
    "print(l)\n",
    "print(update(l,5,v))\n",
    "print(l)\n",
    "print(v) # 'v' does not change. A copy of 'v' is passed into the function\n"
   ]
  },
  {
   "cell_type": "markdown",
   "id": "8e7c6fcc",
   "metadata": {},
   "source": [
    "## Scope of Variables\n",
    "Variables within a function have local scope."
   ]
  },
  {
   "cell_type": "code",
   "execution_count": null,
   "id": "5a02d4cb",
   "metadata": {},
   "outputs": [],
   "source": [
    "def simple(x):\n",
    "    n = 69\n",
    "    return x\n",
    "\n",
    "n = 17\n",
    "v = simple(420)\n",
    "print(v,n)"
   ]
  },
  {
   "cell_type": "markdown",
   "id": "c3e826df",
   "metadata": {},
   "source": [
    "A function must be defined befor it is invoked"
   ]
  },
  {
   "cell_type": "code",
   "execution_count": 34,
   "id": "4d5beaab",
   "metadata": {},
   "outputs": [
    {
     "name": "stdout",
     "output_type": "stream",
     "text": [
      "81\n",
      "--------------------------------------------------\n",
      "81\n"
     ]
    }
   ],
   "source": [
    "# This will work\n",
    "\n",
    "def f(x):\n",
    "    return g(x+1)\n",
    "def g(y):\n",
    "    return (y+3)\n",
    "z = f(77)\n",
    "print(z)\n",
    "\n",
    "print(\"-\"*50)\n",
    "\n",
    "# This should not work\n",
    "def f(x):\n",
    "    return g(x+1)\n",
    "z = f(77)\n",
    "def g(y):\n",
    "    return (y+3)\n",
    "print(z)\n"
   ]
  },
  {
   "cell_type": "markdown",
   "id": "e6fdcbe6",
   "metadata": {},
   "source": [
    "## Recursive Functions\n",
    "Function that calls itself"
   ]
  },
  {
   "cell_type": "code",
   "execution_count": 35,
   "id": "2c9ce59f",
   "metadata": {},
   "outputs": [
    {
     "data": {
      "text/plain": [
       "120"
      ]
     },
     "execution_count": 35,
     "metadata": {},
     "output_type": "execute_result"
    }
   ],
   "source": [
    "val = 1\n",
    "def factorial(n):\n",
    "    if(n<=0):\n",
    "        return 1\n",
    "    else:\n",
    "        val = n*factorial(n-1)\n",
    "        return val\n",
    "\n",
    "factorial(5)"
   ]
  }
 ],
 "metadata": {
  "kernelspec": {
   "display_name": "Python 3 (ipykernel)",
   "language": "python",
   "name": "python3"
  },
  "language_info": {
   "codemirror_mode": {
    "name": "ipython",
    "version": 3
   },
   "file_extension": ".py",
   "mimetype": "text/x-python",
   "name": "python",
   "nbconvert_exporter": "python",
   "pygments_lexer": "ipython3",
   "version": "3.10.10"
  }
 },
 "nbformat": 4,
 "nbformat_minor": 5
}
