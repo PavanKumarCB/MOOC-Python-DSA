{
 "cells": [
  {
   "attachments": {},
   "cell_type": "markdown",
   "id": "8039e729",
   "metadata": {},
   "source": [
    "### Program to find if a number is a prime number or not"
   ]
  },
  {
   "cell_type": "code",
   "execution_count": 2,
   "id": "5f879cc6",
   "metadata": {},
   "outputs": [
    {
     "data": {
      "text/plain": [
       "False"
      ]
     },
     "execution_count": 2,
     "metadata": {},
     "output_type": "execute_result"
    }
   ],
   "source": [
    "def isPrime(n):\n",
    "    for i in range(2,n): # We start off with 2 coz 1 is neither prime nor composite\n",
    "        if(n%i==0):\n",
    "            return False\n",
    "    return True\n",
    "\n",
    "isPrime(21)"
   ]
  },
  {
   "attachments": {},
   "cell_type": "markdown",
   "id": "854b842b",
   "metadata": {},
   "source": [
    "### Program to find prime numbers from 1 to N"
   ]
  },
  {
   "cell_type": "code",
   "execution_count": 3,
   "id": "2e31f461",
   "metadata": {},
   "outputs": [
    {
     "data": {
      "text/plain": [
       "[2, 3, 5, 7]"
      ]
     },
     "execution_count": 3,
     "metadata": {},
     "output_type": "execute_result"
    }
   ],
   "source": [
    "def primeNos(N):\n",
    "    primesList = []\n",
    "    for i in range(2,N+1): # We start off with 2 coz 1 is neither prime nor composite\n",
    "            if(isPrime(i)):\n",
    "                primesList.append(i)\n",
    "    return primesList\n",
    "\n",
    "primeNos(10)"
   ]
  },
  {
   "attachments": {},
   "cell_type": "markdown",
   "id": "c938caea",
   "metadata": {},
   "source": [
    "### Program to find first n primes"
   ]
  },
  {
   "cell_type": "code",
   "execution_count": 7,
   "id": "19553d09",
   "metadata": {},
   "outputs": [
    {
     "data": {
      "text/plain": [
       "[2, 3, 5, 7, 11, 13, 17, 19, 23, 29, 31, 37, 41, 43, 47, 53, 59, 61, 67, 71]"
      ]
     },
     "execution_count": 7,
     "metadata": {},
     "output_type": "execute_result"
    }
   ],
   "source": [
    "# Since we do not know the number of prime numbers in a given range, we use a while loop\n",
    "\n",
    "def nPrimeNos(n):\n",
    "    (count, i, primes) = (1, 2, [])\n",
    "    while(count<=n):\n",
    "        if(isPrime(i)):\n",
    "            primes.append(i)\n",
    "            count += 1\n",
    "        i += 1\n",
    "    return primes\n",
    "\n",
    "nPrimeNos(20)"
   ]
  }
 ],
 "metadata": {
  "kernelspec": {
   "display_name": "Python 3 (ipykernel)",
   "language": "python",
   "name": "python3"
  },
  "language_info": {
   "codemirror_mode": {
    "name": "ipython",
    "version": 3
   },
   "file_extension": ".py",
   "mimetype": "text/x-python",
   "name": "python",
   "nbconvert_exporter": "python",
   "pygments_lexer": "ipython3",
   "version": "3.10.1"
  }
 },
 "nbformat": 4,
 "nbformat_minor": 5
}
