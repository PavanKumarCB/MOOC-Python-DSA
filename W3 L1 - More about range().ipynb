{
 "cells": [
  {
   "attachments": {},
   "cell_type": "markdown",
   "metadata": {},
   "source": [
    "## Introduction\n",
    "- `range(i,j)` produces the sequence `i, i+1,..., j-1`.\n",
    "- `range(j)` automatically starts the sequence from `0, 1,...,j-1 `.\n",
    "- `range(i,j,k)` increments by `k` ie., `i, i+k,...,i+nk`.\n",
    "  - Stops with `n` such that `i+nk < j <= i+(n+1)k`.\n",
    "- To count down, make `k` negative.\n",
    "  - `range(i,j,-1), i > j` produces `i, i-1,...j+1`."
   ]
  },
  {
   "attachments": {},
   "cell_type": "markdown",
   "metadata": {},
   "source": [
    "## More about `range()`\n",
    "- General rule for `range()`: \n",
    "    The sequence starts from `i` and gets as close as possible without crossing `j`.\n",
    "- If `k` is positive and `i >= j` then we obtain an empty sequence. Similarly, if `k` is negative and `i <= j` we obtain an empty sequence.\n",
    "- If `k` is negative, stop **before** `j`.\n",
    "    - `range(12,1,-3)` produces `12,9,6,3`."
   ]
  },
  {
   "cell_type": "code",
   "execution_count": 8,
   "metadata": {},
   "outputs": [
    {
     "name": "stdout",
     "output_type": "stream",
     "text": [
      "Printing x\n",
      "**************************************************\n",
      "Printing y\n",
      "2\n",
      "2\n",
      "2\n",
      "2\n",
      "2\n",
      "2\n",
      "**************************************************\n",
      "Printing w\n"
     ]
    }
   ],
   "source": [
    "print(\"Printing x\")\n",
    "for x in range(7,1,1): # k is +ve, i > j\n",
    "    print(x) # Prints empty sequence\n",
    "    \n",
    "print(\"*\"*50)\n",
    "\n",
    "print(\"Printing y\")\n",
    "for y in range(7,1,-1): # k is -ve, i > j\n",
    "    print(j) # Prints 7,6,5,4,3,2\n",
    "    \n",
    "print(\"*\"*50)\n",
    "\n",
    "print(\"Printing w\")\n",
    "for w in range(1,10,-1): # k is -ve, i < j\n",
    "    print(w) # prints empty sequence"
   ]
  },
  {
   "attachments": {},
   "cell_type": "markdown",
   "metadata": {},
   "source": [
    "### Why does `range(i,j)` stop at `j-1`?\n",
    "- Mainly to make it easier to process lists.\n",
    "- Lists of length `n` have positions/index `0,1,2...,n-1`.\n",
    "- `range(0,len(l))` produces correct range of valid indices.\n",
    "  - This is easier and more convenient than writing `range(0,len(l)-1)`, if `range(i,j)` were to stop at `j` instead of `j-1`."
   ]
  },
  {
   "attachments": {},
   "cell_type": "markdown",
   "metadata": {},
   "source": [
    "## `range()` and Lists\n",
    "- Also, `range()` does not produce a list in Python 3, instead produces a sequence which cannot be manipulated outside of the `range()` function.\n",
    "- In python 2 however, `range()` produces a list. \n",
    "- But `range()` can be converted by using the `list()` method,"
   ]
  },
  {
   "cell_type": "code",
   "execution_count": 11,
   "metadata": {},
   "outputs": [
    {
     "data": {
      "text/plain": [
       "[1, 2, 3, 4, 5, 6, 7, 8, 9]"
      ]
     },
     "execution_count": 11,
     "metadata": {},
     "output_type": "execute_result"
    }
   ],
   "source": [
    "list(range(1,10)) # converting range() to list"
   ]
  },
  {
   "attachments": {},
   "cell_type": "markdown",
   "metadata": {},
   "source": [
    "## Typecasting\n",
    "Converting the datatype of a variable."
   ]
  },
  {
   "cell_type": "code",
   "execution_count": 14,
   "metadata": {},
   "outputs": [
    {
     "name": "stdout",
     "output_type": "stream",
     "text": [
      "<class 'str'>\n",
      "<class 'int'>\n"
     ]
    },
    {
     "ename": "ValueError",
     "evalue": "invalid literal for int() with base 10: '31x'",
     "output_type": "error",
     "traceback": [
      "\u001b[0;31m---------------------------------------------------------------------------\u001b[0m",
      "\u001b[0;31mValueError\u001b[0m                                Traceback (most recent call last)",
      "\u001b[1;32m/Users/pavankumarcbanasode/Desktop/COLLEGE/SEM 4/MOOC - Python DSA/W3 L1 - More about range().ipynb Cell 8\u001b[0m in \u001b[0;36m<cell line: 6>\u001b[0;34m()\u001b[0m\n\u001b[1;32m      <a href='vscode-notebook-cell:/Users/pavankumarcbanasode/Desktop/COLLEGE/SEM%204/MOOC%20-%20Python%20DSA/W3%20L1%20-%20More%20about%20range%28%29.ipynb#X26sZmlsZQ%3D%3D?line=3'>4</a>\u001b[0m \u001b[39mprint\u001b[39m(\u001b[39mtype\u001b[39m(y))\n\u001b[1;32m      <a href='vscode-notebook-cell:/Users/pavankumarcbanasode/Desktop/COLLEGE/SEM%204/MOOC%20-%20Python%20DSA/W3%20L1%20-%20More%20about%20range%28%29.ipynb#X26sZmlsZQ%3D%3D?line=4'>5</a>\u001b[0m str1 \u001b[39m=\u001b[39m \u001b[39m\"\u001b[39m\u001b[39m31x\u001b[39m\u001b[39m\"\u001b[39m\n\u001b[0;32m----> <a href='vscode-notebook-cell:/Users/pavankumarcbanasode/Desktop/COLLEGE/SEM%204/MOOC%20-%20Python%20DSA/W3%20L1%20-%20More%20about%20range%28%29.ipynb#X26sZmlsZQ%3D%3D?line=5'>6</a>\u001b[0m x \u001b[39m=\u001b[39m \u001b[39mint\u001b[39;49m(str1)\n",
      "\u001b[0;31mValueError\u001b[0m: invalid literal for int() with base 10: '31x'"
     ]
    }
   ],
   "source": [
    "str = \"31\"\n",
    "print(type(str))\n",
    "y = int(str)\n",
    "print(type(y))\n",
    "str1 = \"31x\"\n",
    "x = int(str1) # yields error since '31x' cannot be converted into an integer"
   ]
  }
 ],
 "metadata": {
  "kernelspec": {
   "display_name": "Python 3",
   "language": "python",
   "name": "python3"
  },
  "language_info": {
   "codemirror_mode": {
    "name": "ipython",
    "version": 3
   },
   "file_extension": ".py",
   "mimetype": "text/x-python",
   "name": "python",
   "nbconvert_exporter": "python",
   "pygments_lexer": "ipython3",
   "version": "3.10.1"
  },
  "orig_nbformat": 4
 },
 "nbformat": 4,
 "nbformat_minor": 2
}
