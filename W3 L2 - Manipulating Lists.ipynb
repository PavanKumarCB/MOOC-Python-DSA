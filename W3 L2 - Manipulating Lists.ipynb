{
 "cells": [
  {
   "attachments": {},
   "cell_type": "markdown",
   "metadata": {},
   "source": [
    "### Some illustrations to show lists are mutable"
   ]
  },
  {
   "cell_type": "code",
   "execution_count": 4,
   "metadata": {},
   "outputs": [
    {
     "name": "stdout",
     "output_type": "stream",
     "text": [
      "list1 = [1, 3, 7, 6]\n",
      "list2 = [1, 3, 5, 6]\n"
     ]
    }
   ],
   "source": [
    "list1 = [1,3,5,6]\n",
    "list2 = list1 \n",
    "list1 = list1[0:2] + [7] + list1[3:] # produces a new list\n",
    "print(f\"list1 = {list1}\")\n",
    "print(f\"list2 = {list2}\")"
   ]
  },
  {
   "attachments": {},
   "cell_type": "markdown",
   "metadata": {},
   "source": [
    "Doing the above in a function also produces a new list."
   ]
  },
  {
   "cell_type": "code",
   "execution_count": 8,
   "metadata": {},
   "outputs": [
    {
     "name": "stdout",
     "output_type": "stream",
     "text": [
      "list outside the function = [1, 2, 3, 4]\n"
     ]
    },
    {
     "data": {
      "text/plain": [
       "[1, 2, 3, 4, 7]"
      ]
     },
     "execution_count": 8,
     "metadata": {},
     "output_type": "execute_result"
    }
   ],
   "source": [
    "def someFunc(l):\n",
    "    l = l + [7] \n",
    "    return l\n",
    "\n",
    "t = [1,2,3,4]\n",
    "print(f\"list outside the function = {t}\")\n",
    "someFunc(t)"
   ]
  },
  {
   "attachments": {},
   "cell_type": "markdown",
   "metadata": {},
   "source": [
    "## List Functions"
   ]
  },
  {
   "attachments": {},
   "cell_type": "markdown",
   "metadata": {},
   "source": [
    "### Extending a list\n",
    "- Adding an element to a list, in place (at the end of the list).\n",
    "- To do this, we use the `append()` method.\n",
    "- Using `append()` does not produce a new list, unlike concatenation.\n",
    "It is illustrated in the following example."
   ]
  },
  {
   "cell_type": "code",
   "execution_count": 9,
   "metadata": {},
   "outputs": [
    {
     "name": "stdout",
     "output_type": "stream",
     "text": [
      "listA = [1, 2, 3, 4, 5, 12]\n",
      "listB = [1, 2, 3, 4, 5, 12]\n"
     ]
    }
   ],
   "source": [
    "listA = [1,2,3,4,5]\n",
    "listB = listA\n",
    "listA.append(12) # changing listA also changes listB since there is no new list being created\n",
    "\n",
    "print(f\"listA = {listA}\")\n",
    "print(f\"listB = {listB}\")"
   ]
  },
  {
   "attachments": {},
   "cell_type": "markdown",
   "metadata": {},
   "source": [
    "Using the `append()` method, we can only add one element to the end of the list.\n",
    "    \n",
    "`list1.append(v)` - extend `list1` by a single element v\n",
    "\n",
    "By using the `extend()` method, we can add a list to the end of the list.\n",
    "    \n",
    "`list1.extend(list2)` - extend `list1` by a list of elements\n",
    "\n",
    "`list1.extend(list2)` is the equivalent of `list1 = list1 + list2`."
   ]
  },
  {
   "cell_type": "code",
   "execution_count": 10,
   "metadata": {},
   "outputs": [
    {
     "name": "stdout",
     "output_type": "stream",
     "text": [
      "[1, 2, 3, 4, 99]\n"
     ]
    }
   ],
   "source": [
    "list1 = [1,2,3,4]\n",
    "list1.append(99)\n",
    "print(list1)"
   ]
  },
  {
   "cell_type": "code",
   "execution_count": 13,
   "metadata": {},
   "outputs": [
    {
     "name": "stdout",
     "output_type": "stream",
     "text": [
      "[9, 8, 7, 6, 12, 13, 14]\n",
      "[9, 8, 7, 6, 12, 13, 14, 99, 98, 97]\n"
     ]
    }
   ],
   "source": [
    "list2 = [9,8,7,6]\n",
    "list3 = [12,13,14]\n",
    "list2.extend(list3)\n",
    "print(list2)\n",
    "# the extend() method can also be used as \n",
    "list2.extend([99,98,97])\n",
    "print(list2)"
   ]
  },
  {
   "attachments": {},
   "cell_type": "markdown",
   "metadata": {},
   "source": [
    "The `remove(x)` method removes the first occurrence of `x`.\n",
    "\n",
    "But if there are no copy of `x` present in the list, it will give error."
   ]
  },
  {
   "cell_type": "code",
   "execution_count": 19,
   "metadata": {},
   "outputs": [
    {
     "name": "stdout",
     "output_type": "stream",
     "text": [
      "[1, 3, 4]\n",
      "[1, 3, 4, 9, 2, 5, 4]\n"
     ]
    }
   ],
   "source": [
    "k = list(range(1,5))\n",
    "k.remove(2)\n",
    "print(k)\n",
    "\n",
    "n = [1,2,3,4,9,2,5,4]\n",
    "n.remove(2) # the first occurrence of 2 ie., at index 1 is removed\n",
    "print(n)"
   ]
  },
  {
   "cell_type": "code",
   "execution_count": null,
   "metadata": {},
   "outputs": [],
   "source": []
  },
  {
   "cell_type": "code",
   "execution_count": 17,
   "metadata": {},
   "outputs": [
    {
     "ename": "ValueError",
     "evalue": "list.remove(x): x not in list",
     "output_type": "error",
     "traceback": [
      "\u001b[0;31m---------------------------------------------------------------------------\u001b[0m",
      "\u001b[0;31mValueError\u001b[0m                                Traceback (most recent call last)",
      "\u001b[1;32m/Users/pavankumarcbanasode/Desktop/COLLEGE/SEM 4/MOOC - Python DSA/W3 L2 - Manipulating Lists.ipynb Cell 13\u001b[0m in \u001b[0;36m<cell line: 2>\u001b[0;34m()\u001b[0m\n\u001b[1;32m      <a href='vscode-notebook-cell:/Users/pavankumarcbanasode/Desktop/COLLEGE/SEM%204/MOOC%20-%20Python%20DSA/W3%20L2%20-%20Manipulating%20Lists.ipynb#X54sZmlsZQ%3D%3D?line=0'>1</a>\u001b[0m m \u001b[39m=\u001b[39m [\u001b[39m1\u001b[39m,\u001b[39m3\u001b[39m,\u001b[39m4\u001b[39m,\u001b[39m5\u001b[39m,\u001b[39m7\u001b[39m]\n\u001b[0;32m----> <a href='vscode-notebook-cell:/Users/pavankumarcbanasode/Desktop/COLLEGE/SEM%204/MOOC%20-%20Python%20DSA/W3%20L2%20-%20Manipulating%20Lists.ipynb#X54sZmlsZQ%3D%3D?line=1'>2</a>\u001b[0m m\u001b[39m.\u001b[39;49mremove(\u001b[39m2\u001b[39;49m)\n",
      "\u001b[0;31mValueError\u001b[0m: list.remove(x): x not in list"
     ]
    }
   ],
   "source": [
    "m = [1,3,4,5,7]\n",
    "m.remove(2) # will give error"
   ]
  },
  {
   "cell_type": "code",
   "execution_count": null,
   "metadata": {},
   "outputs": [],
   "source": []
  },
  {
   "cell_type": "code",
   "execution_count": null,
   "metadata": {},
   "outputs": [],
   "source": []
  }
 ],
 "metadata": {
  "kernelspec": {
   "display_name": "Python 3",
   "language": "python",
   "name": "python3"
  },
  "language_info": {
   "codemirror_mode": {
    "name": "ipython",
    "version": 3
   },
   "file_extension": ".py",
   "mimetype": "text/x-python",
   "name": "python",
   "nbconvert_exporter": "python",
   "pygments_lexer": "ipython3",
   "version": "3.10.1"
  },
  "orig_nbformat": 4
 },
 "nbformat": 4,
 "nbformat_minor": 2
}
