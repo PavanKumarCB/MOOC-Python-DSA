{
 "cells": [
  {
   "attachments": {},
   "cell_type": "markdown",
   "metadata": {},
   "source": [
    "### Some illustrations to show lists are mutable"
   ]
  },
  {
   "cell_type": "code",
   "execution_count": null,
   "metadata": {},
   "outputs": [],
   "source": [
    "list1 = [1,3,5,6]\n",
    "list2 = list1 \n",
    "list1 = list1[0:2] + [7] + list1[3:] # produces a new list\n",
    "print(f\"list1 = {list1}\")\n",
    "print(f\"list2 = {list2}\")"
   ]
  },
  {
   "attachments": {},
   "cell_type": "markdown",
   "metadata": {},
   "source": [
    "Doing the above in a function also produces a new list. It is illustrated below."
   ]
  },
  {
   "attachments": {},
   "cell_type": "markdown",
   "metadata": {},
   "source": []
  },
  {
   "cell_type": "code",
   "execution_count": null,
   "metadata": {},
   "outputs": [],
   "source": [
    "def someFunc(l):\n",
    "    l = l + [7] \n",
    "    return l\n",
    "\n",
    "t = [1,2,3,4]\n",
    "print(f\"list outside the function = {t}\")\n",
    "someFunc(t)"
   ]
  },
  {
   "attachments": {},
   "cell_type": "markdown",
   "metadata": {},
   "source": [
    "## List Functions"
   ]
  },
  {
   "attachments": {},
   "cell_type": "markdown",
   "metadata": {},
   "source": [
    "### Extending a list\n",
    "- Adding an element to a list, in place (at the end of the list).\n",
    "- To do this, we use the `append()` function.\n",
    "- Using `append()` does not produce a new list, unlike concatenation.\n",
    "It is illustrated in the following example."
   ]
  },
  {
   "cell_type": "code",
   "execution_count": null,
   "metadata": {},
   "outputs": [],
   "source": [
    "listA = [1,2,3,4,5]\n",
    "listB = listA\n",
    "listA.append(12) # changing listA also changes listB since there is no new list being created\n",
    "\n",
    "print(f\"listA = {listA}\")\n",
    "print(f\"listB = {listB}\")"
   ]
  },
  {
   "attachments": {},
   "cell_type": "markdown",
   "metadata": {},
   "source": [
    "Using the `append()` function, we can only add one element to the end of the list.\n",
    "    \n",
    "`list1.append(v)` - extend `list1` by a single element v\n",
    "\n",
    "By using the `extend()` function, we can add a list to the end of the list.\n",
    "    \n",
    "`list1.extend(list2)` - extend `list1` by a list of elements\n",
    "\n",
    "`list1.extend(list2)` is the equivalent of `list1 = list1 + list2`."
   ]
  },
  {
   "cell_type": "code",
   "execution_count": null,
   "metadata": {},
   "outputs": [],
   "source": [
    "list1 = [1,2,3,4]\n",
    "list1.append(99)\n",
    "print(list1)"
   ]
  },
  {
   "cell_type": "code",
   "execution_count": null,
   "metadata": {},
   "outputs": [],
   "source": [
    "list2 = [9,8,7,6]\n",
    "list3 = [12,13,14]\n",
    "list2.extend(list3)\n",
    "print(list2)\n",
    "# the extend() method can also be used as \n",
    "list2.extend([99,98,97])\n",
    "print(list2)"
   ]
  },
  {
   "attachments": {},
   "cell_type": "markdown",
   "metadata": {},
   "source": [
    "The `remove(x)` method removes the first occurrence of `x`.\n",
    "\n",
    "But if there are no copy of `x` present in the list, it will give error."
   ]
  },
  {
   "cell_type": "code",
   "execution_count": null,
   "metadata": {},
   "outputs": [],
   "source": [
    "k = list(range(1,5))\n",
    "k.remove(2)\n",
    "print(k)\n",
    "\n",
    "n = [1,2,3,4,9,2,5,4]\n",
    "n.remove(2) # the first occurrence of 2 ie., at index 1 is removed\n",
    "print(n)\n",
    "n.remove(2) # the next occurrence of 2 ie., at index 5 is removed\n",
    "print(n)\n",
    "n.remove(2) # produces error"
   ]
  },
  {
   "cell_type": "code",
   "execution_count": null,
   "metadata": {},
   "outputs": [],
   "source": [
    "m = [1,3,4,5,7]\n",
    "m.remove(2) # will give error"
   ]
  },
  {
   "attachments": {},
   "cell_type": "markdown",
   "metadata": {},
   "source": [
    "### A note on syntax\n",
    "We would think that the correct way to write the `append` function would be something like this: \n",
    "\n",
    "    append(list1, x)\n",
    "\n",
    "where `list1` is a list of values and `x` is the value needed to be added at the end of `list1`\n",
    "\n",
    "But, `list1` is an **object** and `append()` is a function to update the object and `x` is the argument to the function.\n",
    "\n",
    "This is going to be dealt in OOPs.\n"
   ]
  },
  {
   "attachments": {},
   "cell_type": "markdown",
   "metadata": {},
   "source": [
    "## Some more functions"
   ]
  },
  {
   "attachments": {},
   "cell_type": "markdown",
   "metadata": {},
   "source": [
    "We can also assign a slice to a list, in place.\\\n",
    "This is  illustrated in the following example."
   ]
  },
  {
   "cell_type": "code",
   "execution_count": 22,
   "metadata": {},
   "outputs": [
    {
     "name": "stdout",
     "output_type": "stream",
     "text": [
      "[1, 3, 99, 98]\n",
      "[1, 3, 99, 98]\n"
     ]
    }
   ],
   "source": [
    "q = [1,3,5,7]\n",
    "p = q\n",
    "q[2:] = [99,98]\n",
    "print(q)\n",
    "print(p)"
   ]
  },
  {
   "attachments": {},
   "cell_type": "markdown",
   "metadata": {},
   "source": [
    "We can expand and shrink the slices, but we have to be careful."
   ]
  },
  {
   "cell_type": "code",
   "execution_count": 5,
   "metadata": {},
   "outputs": [
    {
     "name": "stdout",
     "output_type": "stream",
     "text": [
      "[1, 2, 43, 56]\n",
      "**************************************************\n",
      "[5, 6, 99, 88, 77]\n",
      "[5, 6, 99, 45]\n"
     ]
    }
   ],
   "source": [
    "a = [1,2,3,4]\n",
    "a[2:] = [43,56]\n",
    "print(a)\n",
    "\n",
    "print(\"*\"*50)\n",
    "\n",
    "b = [5,6,7,8]\n",
    "b[2:] = [99,88,77] # elements of index 3 onwards are replaced by a list of elements/values\n",
    "print(b)\n",
    "b[3:] = [45] # elements of index 3 onwards are replaced by single element\n",
    "print(b)"
   ]
  },
  {
   "attachments": {},
   "cell_type": "markdown",
   "metadata": {},
   "source": [
    "## List Membership"
   ]
  },
  {
   "attachments": {},
   "cell_type": "markdown",
   "metadata": {},
   "source": []
  }
 ],
 "metadata": {
  "kernelspec": {
   "display_name": "Python 3",
   "language": "python",
   "name": "python3"
  },
  "language_info": {
   "codemirror_mode": {
    "name": "ipython",
    "version": 3
   },
   "file_extension": ".py",
   "mimetype": "text/x-python",
   "name": "python",
   "nbconvert_exporter": "python",
   "pygments_lexer": "ipython3",
   "version": "3.10.1"
  },
  "orig_nbformat": 4
 },
 "nbformat": 4,
 "nbformat_minor": 2
}
