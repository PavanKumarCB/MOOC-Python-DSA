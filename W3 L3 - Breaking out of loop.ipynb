{
 "cells": [
  {
   "attachments": {},
   "cell_type": "markdown",
   "metadata": {},
   "source": [
    "## Revisiting loops\n",
    "Example for searching a value in a list."
   ]
  },
  {
   "cell_type": "code",
   "execution_count": null,
   "metadata": {},
   "outputs": [],
   "source": [
    "def findPos_0(l,v):\n",
    "    # Return the first position(index) of v in l\n",
    "    # Return -1 if v not in l\n",
    "    # In reality, this code returns the position of last occurrence of v in l\n",
    "    \n",
    "    (found,i) = (False, 0)\n",
    "    \n",
    "    while(i<len(l)):\n",
    "        if(l[i] == v):\n",
    "            (found,pos) = (True, i)\n",
    "        i+=1\n",
    "            \n",
    "    if not found:\n",
    "        return -1\n",
    "    return pos\n",
    "\n",
    "l = [1,2,3,4,5,6,2,7]\n",
    "findPos_0(l,2)"
   ]
  },
  {
   "attachments": {},
   "cell_type": "markdown",
   "metadata": {},
   "source": [
    "The above code checks all values in a list before returning a value. This is not very efficient of the list is very long and the element of interest is in the beginning of the list. \n",
    "\n",
    "Also, the above code returns the **last** position of the specified element, not the first.\n",
    "\n",
    "Some change to the above code is necessary and is illustrated below."
   ]
  },
  {
   "cell_type": "code",
   "execution_count": null,
   "metadata": {},
   "outputs": [],
   "source": [
    "def findPos_1(l,v):\n",
    "    # Return the first position(index) of v in l\n",
    "    # Return -1 if v not in l\n",
    "    \n",
    "    (found,i) = (False, 0)\n",
    "    \n",
    "    while(i<len(l)):\n",
    "        if (not found and l[i] == v):\n",
    "            (found, pos) = (True, i)\n",
    "        i += 1\n",
    "    \n",
    "    return pos\n",
    "\n",
    "l = [1,2,3,4,5,6,2,7]\n",
    "findPos_1(l,2)"
   ]
  },
  {
   "attachments": {},
   "cell_type": "markdown",
   "metadata": {},
   "source": [
    "A more natural strategy would be to do the following:\n",
    "- Scan the list for that value.\n",
    "- Stop the scan when the value is found.\n",
    "- If the scan completes without success, return -1."
   ]
  },
  {
   "cell_type": "code",
   "execution_count": null,
   "metadata": {},
   "outputs": [],
   "source": [
    "def findPos_2(l,v):\n",
    "    # Return the first position(index) of v in l\n",
    "    # Return -1 if v not in l\n",
    "    # This code actually returns the first position of v in the list and is more efficient compared to findPos_1\n",
    "    \n",
    "    (found,i) = (False, 0)\n",
    "    \n",
    "    while(i<len(l)):\n",
    "        if(l[i] == v):\n",
    "            (found,pos) = (True, i)\n",
    "            break \n",
    "        i+=1\n",
    "            \n",
    "    if not found:\n",
    "        return -1\n",
    "    return pos\n",
    "\n",
    "l = [1,2,3,4,5,6,2,7]\n",
    "findPos_2(l,2)"
   ]
  },
  {
   "attachments": {},
   "cell_type": "markdown",
   "metadata": {},
   "source": [
    "In the above code, the `break` statement is used to break out of a loop and continue the execution of code after that particular loop.\n",
    "\n",
    "Another variation of the same code using `for` loop is shown below."
   ]
  },
  {
   "cell_type": "code",
   "execution_count": null,
   "metadata": {},
   "outputs": [],
   "source": [
    "def findPos_3(l,v):\n",
    "    (pos, i) = (-1,0)\n",
    "    for x in l:\n",
    "        if x == v:\n",
    "            pos = i\n",
    "            break # exit the loop\n",
    "    return pos\n",
    "\n",
    "l = [1,2,3,4,5,6,2,7]\n",
    "findPos_3(l,2)\n",
    "\n",
    "k = [1,2,3,4,5]\n",
    "findPos_3(k,9)"
   ]
  },
  {
   "attachments": {},
   "cell_type": "markdown",
   "metadata": {},
   "source": [
    "A more natural strategy would be as follows"
   ]
  },
  {
   "cell_type": "code",
   "execution_count": null,
   "metadata": {},
   "outputs": [],
   "source": [
    "def findPos_4(l,v):\n",
    "    pos = -1\n",
    "    for i in range(len(l)):\n",
    "        if l[i] == v:\n",
    "            pos = i\n",
    "            break # exit the loop\n",
    "    return pos\n",
    "\n",
    "l = [1,2,3,4,5,6,2,7]\n",
    "findPos_4(l,2)\n",
    "\n",
    "k = [1,2,3,4,5]\n",
    "findPos_4(k,9)"
   ]
  },
  {
   "attachments": {},
   "cell_type": "markdown",
   "metadata": {},
   "source": [
    "If we don't use use the statement `pos = -1` in the beginning or if we want to detect whether we broke out of the loop, we can do the following:"
   ]
  },
  {
   "cell_type": "code",
   "execution_count": null,
   "metadata": {},
   "outputs": [],
   "source": [
    "def findPos_5(l,v):\n",
    "    for i in range(len(l)):\n",
    "        if l[i] == v:\n",
    "            pos = i\n",
    "            break # exit the loop\n",
    "    else: # notice the indentation. This `else` statement is for the `for` loop\n",
    "        pos = -1 # no break, v is not in l\n",
    "    return pos\n",
    "\n",
    "l = [1,2,3,4,5,6,2,7]\n",
    "findPos_5(l,2)\n",
    "\n",
    "# k = [1,2,3,4,5]\n",
    "# findPos_5(k,9)"
   ]
  },
  {
   "attachments": {},
   "cell_type": "markdown",
   "metadata": {},
   "source": [
    "The above code helps to determine whether we have broken out of a loop or if we have iterated through every value in the list. \n",
    "\n",
    "In Python, a **loop** can also have an `else`. <u>It signals that the loop has terminated after iterating through all the values.</u> We can use this `else` statement for both `for` as well as `while` loops."
   ]
  },
  {
   "attachments": {},
   "cell_type": "markdown",
   "metadata": {},
   "source": []
  }
 ],
 "metadata": {
  "kernelspec": {
   "display_name": "Python 3",
   "language": "python",
   "name": "python3"
  },
  "language_info": {
   "codemirror_mode": {
    "name": "ipython",
    "version": 3
   },
   "file_extension": ".py",
   "mimetype": "text/x-python",
   "name": "python",
   "nbconvert_exporter": "python",
   "pygments_lexer": "ipython3",
   "version": "3.10.10"
  },
  "orig_nbformat": 4
 },
 "nbformat": 4,
 "nbformat_minor": 2
}
