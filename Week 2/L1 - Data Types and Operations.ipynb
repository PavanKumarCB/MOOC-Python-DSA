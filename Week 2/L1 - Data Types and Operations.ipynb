{
 "cells": [
  {
   "attachments": {},
   "cell_type": "markdown",
   "id": "8c1612e3",
   "metadata": {},
   "source": [
    "# Data Types\n",
    "- int\n",
    "- float\n",
    "- boolean\n",
    "\n",
    "Use `type(var)` to get the datatype of the variable"
   ]
  },
  {
   "cell_type": "code",
   "execution_count": 20,
   "id": "160b5125",
   "metadata": {},
   "outputs": [
    {
     "data": {
      "text/plain": [
       "bool"
      ]
     },
     "execution_count": 20,
     "metadata": {},
     "output_type": "execute_result"
    }
   ],
   "source": [
    "k = 23*3.1\n",
    "q = True\n",
    "type(q)"
   ]
  },
  {
   "attachments": {},
   "cell_type": "markdown",
   "id": "fea23a96",
   "metadata": {},
   "source": [
    "# Operations on Numbers\n",
    "- Normal arithmetic operators: `+` `-` `*` `/`\n",
    "    - Note that `/` always produces a float \n",
    "    - Eg: 7/3.5 = 2.0, 5/2 = 2.5\n",
    "- Quotient is `//` & Remainder is `%`\n",
    "    - 9//5 = 1, 9%5 = 4\n",
    "    - `//` can also be called integer division operator\n",
    "- Exponentiation: `**`"
   ]
  },
  {
   "cell_type": "code",
   "execution_count": 21,
   "id": "81125839",
   "metadata": {
    "scrolled": false
   },
   "outputs": [
    {
     "name": "stdout",
     "output_type": "stream",
     "text": [
      "quotient = 3, remainder = 1\n",
      "100\n",
      "0.0015926529164868282\n"
     ]
    }
   ],
   "source": [
    "from math import *\n",
    "a = 10\n",
    "b = 3\n",
    "Q = a//b\n",
    "R = a%b\n",
    "print(f\"quotient = {Q}, remainder = {R}\")\n",
    "exponent = 10**2\n",
    "print(exponent)\n",
    "\n",
    "y = sin(3.14) # arguments r in radians\n",
    "print(y)"
   ]
  },
  {
   "attachments": {},
   "cell_type": "markdown",
   "id": "5a924550",
   "metadata": {},
   "source": [
    "## Boolean Values: `bool`\n",
    "- `True`, `False`\n",
    "\n",
    "Logical operators: `not`, `and`, `or`"
   ]
  },
  {
   "attachments": {},
   "cell_type": "markdown",
   "id": "60b60d68",
   "metadata": {},
   "source": [
    "## Comparisons\n",
    "`==` --> Comparison for equality \\\n",
    "`!=` --> Comparison for inequality\\\n",
    "`<`, `>`, `<=`, `>=` --> less than, greater tha, less than or equal to, greater than or equal to\n",
    "\n",
    "The above operators return either `True` or `False` i.e., boolean values."
   ]
  },
  {
   "cell_type": "code",
   "execution_count": 23,
   "id": "6f7f6c27",
   "metadata": {},
   "outputs": [
    {
     "data": {
      "text/plain": [
       "False"
      ]
     },
     "execution_count": 23,
     "metadata": {},
     "output_type": "execute_result"
    }
   ],
   "source": [
    "# Examples\n",
    "\n",
    "def divides(m,n):\n",
    "    if(m>0):\n",
    "        if(n%m==0):\n",
    "            return True\n",
    "        else:\n",
    "            return False\n",
    "    else:\n",
    "        print(\"Division by 0\")\n",
    "        \n",
    "def even(n):\n",
    "    return divides(2,n)\n",
    "\n",
    "def odd(n):\n",
    "    return (not divides(2,n))\n",
    "\n",
    "even(81)"
   ]
  }
 ],
 "metadata": {
  "kernelspec": {
   "display_name": "Python 3 (ipykernel)",
   "language": "python",
   "name": "python3"
  },
  "language_info": {
   "codemirror_mode": {
    "name": "ipython",
    "version": 3
   },
   "file_extension": ".py",
   "mimetype": "text/x-python",
   "name": "python",
   "nbconvert_exporter": "python",
   "pygments_lexer": "ipython3",
   "version": "3.10.10"
  }
 },
 "nbformat": 4,
 "nbformat_minor": 5
}
