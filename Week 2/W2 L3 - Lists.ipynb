{
 "cells": [
  {
   "cell_type": "markdown",
   "id": "dbae249b",
   "metadata": {},
   "source": [
    "## Introduction\n",
    "Lists are a sequence of values\n",
    "\n",
    "    factors = [2,3,5,8]\n",
    "    names = [\"Ravi\", \"Anand\", \"Ramesh\"]\n",
    "    \n",
    "Python allows for mixed lists, i.e., lists containing more than one kind of datatype, like\n",
    "\n",
    "    mixed_list = [3, True, \"Hello\"]\n",
    "    \n",
    "Extraction of values in a list is same as that done in a string.\n",
    "\n",
    "    factors[3] is 8\n",
    "    mixed_list[0:2] is [3, True]"
   ]
  },
  {
   "cell_type": "markdown",
   "id": "bc28182a",
   "metadata": {},
   "source": [
    "## Lists and Strings\n",
    "For a string both, a single position and a slice returns a string. For eg\n",
    "\n",
    "    h = \"hello\" \n",
    "    h[0] == h[0:1] == \"h\"\n",
    "    \n",
    "For a list, a single position returns a value, a slice returns a list. For eg\n",
    "\n",
    "    nums = [2,5,7,4]\n",
    "    nums[0] == 2, nums[0:1] == [2] \n"
   ]
  },
  {
   "cell_type": "markdown",
   "id": "ec891a28",
   "metadata": {},
   "source": [
    "## Nested Lists\n",
    "Lists can contain other lists within them."
   ]
  },
  {
   "cell_type": "code",
   "execution_count": null,
   "id": "b7dd30d4",
   "metadata": {},
   "outputs": [],
   "source": [
    "nested_list = [[2,23], 4, True, [\"naruto\"]]\n",
    "\n",
    "print(f\"nested_list[0] = {nested_list[0]}\")\n",
    "print(f\"nested_list[0][0] = {nested_list[0][0]}\") # returns a single value\n",
    "print(f\"nested_list[0][0:1] = {nested_list[0][0:1]}\") # returns a list because we have taken a slice\n",
    "\n",
    "print(\"-\"*50)\n",
    "\n",
    "print(f\"nested_list[1] = {nested_list[1]}\")\n",
    "print(f\"nested_list[2] = {nested_list[2]}\")\n",
    "\n",
    "print(\"-\"*50)\n",
    "\n",
    "print(f\"nested_list[3] = {nested_list[3]}\") # returns the elemet at position 3 which is a list\n",
    "print(f\"nested_list[3][0] = {nested_list[3][0]}\") # returns the value at (outer_list[3], innter_list[0])\n",
    "print(f\"nested_list[3][0][2] = {nested_list[3][0][2]}\")"
   ]
  },
  {
   "cell_type": "markdown",
   "id": "b8485b5c",
   "metadata": {},
   "source": [
    "## Updating Lists\n",
    "Unlike strings, lists can be updated by changing the values at specific indices by mentioning that index and the updated value.\n",
    "Lists are **mutable**, unlike strings"
   ]
  },
  {
   "cell_type": "code",
   "execution_count": null,
   "id": "14f73490",
   "metadata": {},
   "outputs": [],
   "source": [
    "new_nested = [[2,17], 4, [\"bleach\"]]\n",
    "new_nested[1] = 9 # changing the element at index 1\n",
    "print(new_nested)\n",
    "\n",
    "new_nested[0][1] = 5 # changing the element at index 1 of nested list\n",
    "print(new_nested)\n",
    "\n",
    "new_nested[2][0][3] = 'A' # trying to change a string here by specifying the index. Will throw an error\n",
    "print(new_nested)"
   ]
  },
  {
   "cell_type": "markdown",
   "id": "242dd09f",
   "metadata": {},
   "source": [
    "## Mutable vs Immutable\n",
    "**Immutable Objects** are those whose state cannot be changed after they have been created. But a **Mutable Object** allows for changing its state after creation"
   ]
  },
  {
   "cell_type": "markdown",
   "id": "93b8ee18",
   "metadata": {},
   "source": [
    "For **immutable values**, asignment operation makes a fresh copy of a value. Values of _int_, _float_, _str_ are immutable. Updating one value does not affect the copy."
   ]
  },
  {
   "cell_type": "code",
   "execution_count": null,
   "id": "1688e5c8",
   "metadata": {},
   "outputs": [],
   "source": [
    "x = 10\n",
    "y = x\n",
    "print(f\"x = 10, y = {y}\")\n",
    "x = 25\n",
    "print(f\"x = 25, y = {y}\")\n",
    "\n",
    "# It can be notes that when 'x' is assigned to 'y', 'y' is assigned a copy of 'x'. \n",
    "# Then when value of 'x' is changed, that change does not affect the copy.\n"
   ]
  },
  {
   "cell_type": "markdown",
   "id": "4e6d7863",
   "metadata": {},
   "source": [
    "For **mutable values**, assignment **does not** make a fresh copy, like in the case of lists."
   ]
  },
  {
   "cell_type": "markdown",
   "id": "c5be7398",
   "metadata": {},
   "source": [
    "In the code below, we can see that changing a value in _list1_ also caused a change in _list2_. From this we can say that both _list1_ and _list2_ point to the same object/list. \n",
    "\n",
    "When _list1_ is assigned to _list2_, its like making a pointer point to the same thing."
   ]
  },
  {
   "cell_type": "code",
   "execution_count": null,
   "id": "1ea16ada",
   "metadata": {},
   "outputs": [],
   "source": [
    "list1 = [3,1,2,7]\n",
    "list2 = list1\n",
    "print(f\"Before updating, list2 = {list2}\")\n",
    "list1[2] = 10\n",
    "print(\"After updating:\")\n",
    "print(f\"list1 = {list1}\")\n",
    "print(f\"list2 = {list2}\")"
   ]
  },
  {
   "cell_type": "markdown",
   "id": "146842fb",
   "metadata": {},
   "source": [
    "In order to make a copy of the list, we use **full slice**. \n",
    "\n",
    "We know that, \n",
    "\n",
    "    l[:k] == l[0:k] and l[k:] == l[k:len(l)]\n",
    "    \n",
    "Hence, \n",
    "\n",
    "    l[:] == l[0:len(l)]\n",
    "\n",
    "Slicing returns a sub-list, and that sublist can be assigned to another list. In this case, a **copy** of first list is assigned to second list.  "
   ]
  },
  {
   "cell_type": "code",
   "execution_count": null,
   "id": "84e4ad41",
   "metadata": {},
   "outputs": [],
   "source": [
    "listA = [1,2,3,4]\n",
    "listB = listA[:] # [:] is used to specify a full slice\n",
    "print(\"Before updating listA:\")\n",
    "print(f\"listA = {listA}\")\n",
    "print(f\"listB = {listB}\")\n",
    "\n",
    "listA[1] = 99\n",
    "print(\"\\n\")\n",
    "\n",
    "print(\"After updating listA:\")\n",
    "print(f\"listA = {listA}\")\n",
    "print(f\"listB = {listB}\")\n"
   ]
  },
  {
   "attachments": {
    "Untitled%20Diagram.drawio-2.png": {
     "image/png": "[encoded data removed]"
    }
   },
   "cell_type": "markdown",
   "id": "7df86c0e",
   "metadata": {},
   "source": [
    "## Digression on equality\n",
    "Consider the following statements\n",
    "\n",
    "    list1 = [1,3,5,7]\n",
    "    list2 = [1,3,5,7]\n",
    "    list3 = list2\n",
    "    \n",
    "![Untitled%20Diagram.drawio-2.png](attachment:Untitled%20Diagram.drawio-2.png)\n",
    "Here, `list1` and `list2` are two different lists with same values, whereas `list2` and `list3` are different names for the same list meaning `list1` and `list2` point to the same object/list.\n",
    "\n",
    "- `x == y` checks if `x` and `y` have same value.\n",
    "- `x is y` checks if `x` and `y` refer to the same object.\n",
    "\n",
    "This is illustrated in the following code"
   ]
  },
  {
   "cell_type": "code",
   "execution_count": null,
   "id": "0ab26589",
   "metadata": {},
   "outputs": [],
   "source": [
    "list1 = [1,3,5,7]\n",
    "list2 = [1,3,5,7]\n",
    "list3 = list2\n",
    "\n",
    "print(list1 == list2) # True\n",
    "print(list2 == list3) # True\n",
    "\n",
    "print(list1 is list2) # False\n",
    "print(list2 is list3) # True"
   ]
  },
  {
   "cell_type": "markdown",
   "id": "87928350",
   "metadata": {},
   "source": [
    "## Concatenation of Lists\n",
    "Like strings, lists can also be concatenated using the `+` operator.\n",
    "\n",
    "Note that the concatenation operation (`+`) always produces a new list."
   ]
  },
  {
   "cell_type": "code",
   "execution_count": null,
   "id": "1cfe9ca3",
   "metadata": {},
   "outputs": [],
   "source": [
    "L1 = [1,2,3,4]\n",
    "L2 = L1 # L1 and L2 point ot the same list\n",
    "L1 = L1 + [9]\n",
    "print(L1)\n",
    "print(L2)\n",
    "# now L1 and L2 do not point to the same list"
   ]
  }
 ],
 "metadata": {
  "kernelspec": {
   "display_name": "Python 3 (ipykernel)",
   "language": "python",
   "name": "python3"
  },
  "language_info": {
   "codemirror_mode": {
    "name": "ipython",
    "version": 3
   },
   "file_extension": ".py",
   "mimetype": "text/x-python",
   "name": "python",
   "nbconvert_exporter": "python",
   "pygments_lexer": "ipython3",
   "version": "3.10.10"
  }
 },
 "nbformat": 4,
 "nbformat_minor": 5
}
