{
 "cells": [
  {
   "cell_type": "markdown",
   "metadata": {},
   "source": [
    "## Sequence of Values\n",
    "There are two basic ways of storing a sequence of values. They are:\n",
    "    \n",
    "    - Arrays\n",
    "    - Lists\n",
    "\n",
    "Let's see the difference."
   ]
  },
  {
   "cell_type": "markdown",
   "metadata": {},
   "source": [
    "### Arrays\n",
    "- It is a single block of memory. \n",
    "- The elements of an array are homogenous meaning they are of the same type (int, float etc).\n",
    "- Typically, the size of the array is fixed in advance.\n",
    "\n",
    "- Indexing is faster, ie., `seq[i]` is constant time for any `i`, which means that it takes the same amount of time to reach the element at any index `i`.\n",
    "- Inserting between `seq[i]` and `seq[i+1]` is expensive, meaning it takes more lines of code to do it.\n",
    "- Even contraction is expensive in arrays."
   ]
  },
  {
   "cell_type": "markdown",
   "metadata": {},
   "source": [
    "### Lists\n",
    "- Lists contain values that are scattered in memory.\n",
    "  - Each element points to the next _linked_ list.\n",
    "  - Lists are flexible in size.\n",
    "\n",
    "We don't have an assumption of how these values are stored, unlike in case of arrays, but we have a logical link between successive elements.\n",
    "\n",
    "To access the `i`th element, we have to follow the links. Hence, the cost of computing is proportional to `i` ie., linear time.\n",
    "\n",
    "On the other hand, it is easy to delete or insert an element into the list."
   ]
  },
  {
   "cell_type": "markdown",
   "metadata": {},
   "source": [
    "## Operations\n",
    "1. Exchange `seq[i]` and `seq[j]`\n",
    "   - Constant time in arrays, linear time in lists\n",
    "2. Delete `seq[i]` or insert `v` after `seq[i]`\n",
    "   - Constant time in lists (if we are already at `seq[i]`)\n",
    "   - Linear time in arrays, coz we need to shift the other elements."
   ]
  },
  {
   "cell_type": "markdown",
   "metadata": {},
   "source": [
    "## Search Problem\n",
    "- Objective is to check whether an element`v` is present in collection `seq`.\n",
    "- Does the structure of `seq` matter?\n",
    "  - Array vs List\n",
    "- Does the organization of the information/values matter?\n",
    "  - Values sorted or unsorted"
   ]
  },
  {
   "cell_type": "markdown",
   "metadata": {},
   "source": [
    "### The unsorted case"
   ]
  },
  {
   "cell_type": "code",
   "execution_count": 1,
   "metadata": {},
   "outputs": [
    {
     "data": {
      "text/plain": [
       "False"
      ]
     },
     "execution_count": 1,
     "metadata": {},
     "output_type": "execute_result"
    }
   ],
   "source": [
    "def search(seq, v):\n",
    "    for x in seq:\n",
    "        if x == v:\n",
    "            return True\n",
    "    return False\n",
    "\n",
    "s = [1,2,3,4,5]\n",
    "search(s, 10)"
   ]
  },
  {
   "cell_type": "markdown",
   "metadata": {},
   "source": [
    "### Worst Case\n",
    "- We need to scan the entire collection/sequence of values.\n",
    "  - Time taken is proportional to length of sequence.\n",
    "- Does not matter if `seq` is an array or a list."
   ]
  },
  {
   "cell_type": "markdown",
   "metadata": {},
   "source": [
    "### Searching a sorted sequence\n",
    "- If `seq` is sorted, then\n",
    "  - compare `v` with element at midpoint of `seq`.\n",
    "  - if midpoint value is `v` then value is found.\n",
    "  - if `v` < midpoint, search left half of `seq`.\n",
    "  - if `v` > midpoint, search right half of `seq`.\n",
    "\n",
    "This algorithm is called **Binary Search**"
   ]
  },
  {
   "cell_type": "markdown",
   "metadata": {},
   "source": [
    "### Binary Search\n",
    "The following code illustrates the binary search algorithm"
   ]
  },
  {
   "cell_type": "code",
   "execution_count": 3,
   "metadata": {},
   "outputs": [
    {
     "data": {
      "text/plain": [
       "False"
      ]
     },
     "execution_count": 3,
     "metadata": {},
     "output_type": "execute_result"
    }
   ],
   "source": [
    "def binarySearch(seq, v, l, r):\n",
    "# search for v in seq[l:r], seq is sorted\n",
    "    if(r-l == 0):\n",
    "        return False\n",
    "    mid = (l+r)//2 # integer division\n",
    "    \n",
    "    if(v == seq[mid]):\n",
    "        return True\n",
    "    if(v < seq[mid]):\n",
    "        return(binarySearch(seq, v, l, mid))\n",
    "    if(v > seq[mid]):\n",
    "        return(binarySearch(seq, v, mid+1, r))\n",
    "    \n",
    "s = [1,2,3,4,5,7,90]\n",
    "binarySearch(s,98,0,len(s)-1)"
   ]
  },
  {
   "cell_type": "markdown",
   "metadata": {},
   "source": [
    "### How long does it take?\n",
    "- Each step halves th interval to search.\n",
    "- For interval of size 0, answer is given immediately.\n",
    "\n",
    "`T(n)` : Time to search in a sequence of size `n`\n",
    "\n",
    "    T(0) = 1 \n",
    "because it takes only one step to search the sequence.\n",
    "\n",
    "    T(n) = 1 + T(n/2)\n",
    "The above is called a recurrence\n",
    "\n",
    "Unwinding the recurrence, we get\n",
    "    \n",
    "    T(n) = 1 + T(n/2)\n",
    "           1 + 1 + T(n/2 $2^{2}$)\n"
   ]
  }
 ],
 "metadata": {
  "kernelspec": {
   "display_name": "Python 3 (ipykernel)",
   "language": "python",
   "name": "python3"
  },
  "language_info": {
   "codemirror_mode": {
    "name": "ipython",
    "version": 3
   },
   "file_extension": ".py",
   "mimetype": "text/x-python",
   "name": "python",
   "nbconvert_exporter": "python",
   "pygments_lexer": "ipython3",
   "version": "3.10.10"
  }
 },
 "nbformat": 4,
 "nbformat_minor": 2
}
