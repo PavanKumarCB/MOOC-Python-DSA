{
 "cells": [
  {
   "attachments": {},
   "cell_type": "markdown",
   "metadata": {},
   "source": [
    "## Sequence of Values\n",
    "There are two basic ways of storing a sequence of values. They are:\n",
    "    \n",
    "    - Arrays\n",
    "    - Lists\n",
    "\n",
    "Let's see the difference."
   ]
  },
  {
   "attachments": {},
   "cell_type": "markdown",
   "metadata": {},
   "source": [
    "### Arrays\n",
    "- It is a single block of memory. \n",
    "- The elements of an array are homogenous meaning they are of the same type (int, float etc).\n",
    "- Typically, the size of the array is fixed in advance.\n",
    "\n",
    "- Indexing is faster, ie., `seq[i]` is constant time for any `i`, which means that it takes the same amount of time to reach the element at any index `i`.\n",
    "- Inserting between `seq[i]` and `seq[i+1]` is expensive, meaning it takes more lines of code to do it.\n",
    "- Even contraction is expensive in arrays."
   ]
  },
  {
   "attachments": {},
   "cell_type": "markdown",
   "metadata": {},
   "source": [
    "### Lists\n",
    "- Lists contain values that are scattered in memory.\n",
    "  - Each element points to the next _linked_ list.\n",
    "  - Lists are flexible in size.\n",
    "\n",
    "We don't have an assumption of how these values are stored, unlike in case of arrays, but we have a logical link between successive elements.\n",
    "\n",
    "To access the `i`th element, we have to follow the links. Hence, the cost of computing is proportional to `i` ie., linear time.\n",
    "\n",
    "On the other hand, it is easy to delete or insert an element into the list."
   ]
  }
 ],
 "metadata": {
  "language_info": {
   "name": "python"
  },
  "orig_nbformat": 4
 },
 "nbformat": 4,
 "nbformat_minor": 2
}
